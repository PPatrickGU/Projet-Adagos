{
  "nbformat": 4,
  "nbformat_minor": 0,
  "metadata": {
    "colab": {
      "name": "Projet d'Adagos",
      "provenance": [],
      "collapsed_sections": [
        "V5KdqmbsBrAC"
      ],
      "include_colab_link": true
    },
    "kernelspec": {
      "name": "python3",
      "display_name": "Python 3"
    },
    "accelerator": "GPU"
  },
  "cells": [
    {
      "cell_type": "markdown",
      "metadata": {
        "id": "view-in-github",
        "colab_type": "text"
      },
      "source": [
        "<a href=\"https://colab.research.google.com/github/PPatrickGU/Projet-Adagos/blob/main/Projet_d'Adagos.ipynb\" target=\"_parent\"><img src=\"https://colab.research.google.com/assets/colab-badge.svg\" alt=\"Open In Colab\"/></a>"
      ]
    },
    {
      "cell_type": "markdown",
      "metadata": {
        "id": "6YS1d7L5BtSZ"
      },
      "source": [
        "# **Projet d'Adagos**\r\n",
        "### ***Author: Zheyi SHEN, Zhaoyi GUAN, Dajing GU & Anastasiya DULEPOVA*** "
      ]
    },
    {
      "cell_type": "code",
      "metadata": {
        "id": "r4zm7Er-_jYL"
      },
      "source": [
        "import cv2\r\n",
        "import numpy as np\r\n",
        "import random\r\n",
        "from google.colab import drive\r\n",
        "from google.colab.patches import cv2_imshow"
      ],
      "execution_count": null,
      "outputs": []
    },
    {
      "cell_type": "code",
      "metadata": {
        "id": "cybM7tSeZUhe"
      },
      "source": [
        "# mount my google drive \r\n",
        "drive.mount('/drive')"
      ],
      "execution_count": null,
      "outputs": []
    },
    {
      "cell_type": "code",
      "metadata": {
        "id": "YkixBw19bUL9"
      },
      "source": [
        "# read the image\r\n",
        "path_img = '/drive/My Drive/PIC-PROJ/image/Amst.jpg'\r\n",
        "img = cv2.imread(path_img)\r\n",
        "cv2_imshow(img)"
      ],
      "execution_count": null,
      "outputs": []
    },
    {
      "cell_type": "markdown",
      "metadata": {
        "id": "V5KdqmbsBrAC"
      },
      "source": [
        "## **Imgae procession**"
      ]
    },
    {
      "cell_type": "code",
      "metadata": {
        "id": "xBvuSm7CiR4r"
      },
      "source": [
        "def random_type(img, ratio):\r\n",
        "  (h,w,d) = img.shape\r\n",
        "  new_img = img.copy()\r\n",
        "  num = int(h * w * ratio)\r\n",
        "  index_y = np.random.randint(h,size=num)\r\n",
        "  index_x = np.random.randint(w,size=num)\r\n",
        "  for i in range(num):\r\n",
        "    new_img[index_y[i],index_x[i],:] = 0\r\n",
        "  return new_img\r\n"
      ],
      "execution_count": null,
      "outputs": []
    },
    {
      "cell_type": "code",
      "metadata": {
        "id": "TY533p9TEk9E"
      },
      "source": [
        "new_img = random_type(img,0.4)\r\n",
        "cv2_imshow(new_img)"
      ],
      "execution_count": null,
      "outputs": []
    },
    {
      "cell_type": "code",
      "metadata": {
        "id": "1JP6-HOy6h-k"
      },
      "source": [
        "def grid_type(img):\r\n",
        "  (h,w,d) = img.shape\r\n",
        "  new_img = img.copy()\r\n",
        "  for i in range(0,h,2):\r\n",
        "    for j in range(0,w,2):\r\n",
        "      new_img[i,j,:] = 0\r\n",
        "  return new_img"
      ],
      "execution_count": null,
      "outputs": []
    },
    {
      "cell_type": "code",
      "metadata": {
        "id": "wlDM6sXzEZb4"
      },
      "source": [
        "cv2_imshow(grid_type(img))"
      ],
      "execution_count": null,
      "outputs": []
    },
    {
      "cell_type": "code",
      "metadata": {
        "id": "3cV-YRdX9sZ5"
      },
      "source": [
        "def rectangle_type(img, hr, wr):\r\n",
        "  (h,w,d) = img.shape\r\n",
        "  new_img = img.copy()\r\n",
        "  y = np.random.randint(h)\r\n",
        "  x = np.random.randint(w)\r\n",
        "  for i in range(y,min(y+hr,h)):\r\n",
        "    for j in range(x,min(x+wr,w)):\r\n",
        "      new_img[i,j,:] = 0\r\n",
        "  return new_img   \r\n",
        "  "
      ],
      "execution_count": null,
      "outputs": []
    },
    {
      "cell_type": "code",
      "metadata": {
        "id": "d_3kvkjs7liE"
      },
      "source": [
        "cv2_imshow(rectangle_type(img,100,200))  "
      ],
      "execution_count": null,
      "outputs": []
    },
    {
      "cell_type": "code",
      "metadata": {
        "id": "JWgnpONVRerT"
      },
      "source": [
        "def masque_rec(img):\r\n",
        "    '''\r\n",
        "    create a rectangle masque of random size\r\n",
        "    '''\r\n",
        "    h,w,c = img.shape\r\n",
        "    new_img = img.copy()\r\n",
        "    hm1, hm2 = random.randint(1,h), random.randint(1,h)\r\n",
        "    hm_1, hm_2 = min(hm1,hm2), max(hm1, hm2)\r\n",
        "    wm1, wm2 = random.randint(1, w), random.randint(1, w)\r\n",
        "    wm_1, wm_2 = min(wm1,wm2), max(wm1, wm2)\r\n",
        "\r\n",
        "    cv2.rectangle(new_img, (hm_1, wm_1), (hm_2, wm_2), (0, 0, 0), -1)\r\n",
        "    return new_img"
      ],
      "execution_count": null,
      "outputs": []
    },
    {
      "cell_type": "code",
      "metadata": {
        "id": "Zz8TXU_JRf1W"
      },
      "source": [
        "cv2_imshow(masque_rec(img)) "
      ],
      "execution_count": null,
      "outputs": []
    },
    {
      "cell_type": "code",
      "metadata": {
        "id": "kFUPa2xzSYz5"
      },
      "source": [
        "def masque_grille(img):\r\n",
        "    '''\r\n",
        "    create a grille masque of random size\r\n",
        "    '''\r\n",
        "    h,w,c = img.shape\r\n",
        "    new_img = img.copy()\r\n",
        "    GRID_SIZE = random.randint(1,min(h,w))\r\n",
        "    THICKNESS = random.randint(1,GRID_SIZE//3)\r\n",
        "    for x in range(0, w - 1, GRID_SIZE):\r\n",
        "        cv2.line(new_img, (x, 0), (x, h), (0, 0, 0), THICKNESS)\r\n",
        "    for y in range(0, h - 1, GRID_SIZE):\r\n",
        "        cv2.line(new_img, (0, y), (w, y), (0, 0, 0), THICKNESS)\r\n",
        "    return(new_img)"
      ],
      "execution_count": null,
      "outputs": []
    },
    {
      "cell_type": "code",
      "metadata": {
        "id": "8Re4e4n3Sbov"
      },
      "source": [
        "cv2_imshow(masque_grille(img))"
      ],
      "execution_count": null,
      "outputs": []
    },
    {
      "cell_type": "code",
      "metadata": {
        "id": "IroNL5pwkKoC"
      },
      "source": [
        "def vertical_stripes(img):\r\n",
        "  (h,w,d) = img.shape\r\n",
        "  new_img = img.copy()\r\n",
        "  for i in range(0,h):\r\n",
        "    for j in range(0,w,2):\r\n",
        "      new_img[i,j,:] = 0\r\n",
        "  cv2_imshow(new_img) "
      ],
      "execution_count": null,
      "outputs": []
    },
    {
      "cell_type": "code",
      "metadata": {
        "id": "3FvQp9-XkPyi"
      },
      "source": [
        "vertical_stripes(img)"
      ],
      "execution_count": null,
      "outputs": []
    },
    {
      "cell_type": "code",
      "metadata": {
        "id": "jTNrrpIkkciC"
      },
      "source": [
        "def horizontal_stripes(img):\r\n",
        "  (h,w,d) = img.shape\r\n",
        "  new_img = img.copy()\r\n",
        "  for i in range(0,h,2):\r\n",
        "    for j in range(0,w):\r\n",
        "      new_img[i,j,:] = 0\r\n",
        "  cv2_imshow(new_img) "
      ],
      "execution_count": null,
      "outputs": []
    },
    {
      "cell_type": "code",
      "metadata": {
        "id": "gXRGSknIkm0T"
      },
      "source": [
        "horizontal_stripes(img)"
      ],
      "execution_count": null,
      "outputs": []
    },
    {
      "cell_type": "markdown",
      "metadata": {
        "id": "pvcdOn2MB5EF"
      },
      "source": [
        "## **Data generation**"
      ]
    },
    {
      "cell_type": "code",
      "metadata": {
        "id": "7B8dVy0yMS3G"
      },
      "source": [
        "def rectangle_type(img, hr, wr):\r\n",
        "  (h,w) = img.shape\r\n",
        "  new_img = img.copy()\r\n",
        "  y = np.random.randint(h)\r\n",
        "  x = np.random.randint(w)\r\n",
        "  for i in range(y,min(y+hr,h)):\r\n",
        "    for j in range(x,min(x+wr,w)):\r\n",
        "      new_img[i,j] = 0\r\n",
        "  return new_img   "
      ],
      "execution_count": null,
      "outputs": []
    },
    {
      "cell_type": "code",
      "metadata": {
        "id": "-D7BEmV4mL8j"
      },
      "source": [
        "def Data_train(img, rate):\r\n",
        "  ''' \r\n",
        "  Create dataset for model training\r\n",
        "  '''\r\n",
        "  new_img = img.copy()\r\n",
        "  a =  np.where(new_img!=0)\r\n",
        "  n = len(a[0]) \r\n",
        "  X, Y = np.zeros(shape=(n,2)), np.zeros(shape=(n,1))\r\n",
        "  for i in range(n):\r\n",
        "    x, y = a[0][i], a[1][i]\r\n",
        "    # r, g, b = new_img[x,y,0], new_img[x,y,1], new_img[x,y,2]\r\n",
        "    gris = new_img[x,y]\r\n",
        "    X[i,:] = [x,y]\r\n",
        "    # Y[i,:] = [r,g,b]\r\n",
        "    Y[i] = gris\r\n",
        "  n = int(rate*n)\r\n",
        "  X_train, X_validate = X[:n,:], X[n:-1,:]\r\n",
        "  Y_train, Y_validate = Y[:n,:], Y[n:-1,:]\r\n",
        "  return X_train, Y_train, X_validate, Y_validate"
      ],
      "execution_count": null,
      "outputs": []
    },
    {
      "cell_type": "code",
      "metadata": {
        "id": "S6IQjWbhUlBB"
      },
      "source": [
        "def Data_test(img):\r\n",
        "  ''' \r\n",
        "  Create dataset for model test\r\n",
        "  '''\r\n",
        "  new_img = img.copy()\r\n",
        "  a =  np.where(new_img==0)\r\n",
        "  n = len(a[0]) \r\n",
        "  X_test, Y_test = np.zeros(shape=(n,2)), np.zeros(shape=(n,3))\r\n",
        "  for i in range(n):\r\n",
        "    x, y = a[0][i], a[1][i]\r\n",
        "    # r, g, b = new_img[x,y,0], new_img[x,y,1], new_img[x,y,2]\r\n",
        "    gris = new_img[x,y]\r\n",
        "    X_test[i,:] = [x,y]\r\n",
        "    Y_test[i] = gris\r\n",
        "  return X_test, Y_test"
      ],
      "execution_count": null,
      "outputs": []
    },
    {
      "cell_type": "code",
      "metadata": {
        "id": "gHyBXVjuOwDz"
      },
      "source": [
        "cv2_imshow(img)\r\n",
        "new_img = rectangle_type(cv2.cvtColor(img,cv2.COLOR_RGB2GRAY), 100, 200) #shape [*,*,3]\r\n",
        "cv2_imshow(new_img)\r\n",
        "new_img = new_img/255 # nomalization\r\n",
        "\r\n",
        "X_train, Y_train, X_validate, Y_validate = Data_train(new_img, 0.2)\r\n",
        "X_test, Y_test = Data_test(new_img)\r\n"
      ],
      "execution_count": null,
      "outputs": []
    },
    {
      "cell_type": "code",
      "metadata": {
        "id": "M_-mKC5G89Gf"
      },
      "source": [
        "print(X_validate.shape)\r\n",
        "print(Y_validate.shape)\r\n",
        "# for inputs, labels in X_train:\r\n",
        "#   print('inputs',inputs)\r\n",
        "#   # print('labels',labels)"
      ],
      "execution_count": null,
      "outputs": []
    },
    {
      "cell_type": "markdown",
      "metadata": {
        "id": "JUWX2EMHWdCp"
      },
      "source": [
        "## **Model creation using Keras**"
      ]
    },
    {
      "cell_type": "code",
      "metadata": {
        "id": "1EoEkEfaGCea"
      },
      "source": [
        "import tensorflow as tf\r\n",
        "from tensorflow.keras import *\r\n",
        "print(tf.__version__)\r\n",
        "print(tf.config.list_physical_devices('GPU'))"
      ],
      "execution_count": null,
      "outputs": []
    },
    {
      "cell_type": "code",
      "metadata": {
        "id": "mVz869HCbPm2"
      },
      "source": [
        "backend.clear_session()"
      ],
      "execution_count": null,
      "outputs": []
    },
    {
      "cell_type": "code",
      "metadata": {
        "id": "82lny6E3Xit2"
      },
      "source": [
        "class Network(tf.keras.Model):\r\n",
        "    def __init__(self):\r\n",
        "        super(Network, self).__init__()\r\n",
        "        self.fc1 = layers.Dense(units=1, activation='relu')\r\n",
        "    def call(self, inputs, training=None, mask=None):\r\n",
        "        x = self.fc1(inputs)\r\n",
        "        return x"
      ],
      "execution_count": null,
      "outputs": []
    },
    {
      "cell_type": "code",
      "metadata": {
        "id": "e1P_xmHRX3Dc"
      },
      "source": [
        "model = Network() \r\n",
        "model.build(input_shape=(None, 2)) # num_batch, input_size\r\n",
        "model.summary() # print the network\r\n"
      ],
      "execution_count": null,
      "outputs": []
    },
    {
      "cell_type": "markdown",
      "metadata": {
        "id": "Iu5FqOjhIFJG"
      },
      "source": [
        "## **Model training demo (using Keras)**"
      ]
    },
    {
      "cell_type": "code",
      "metadata": {
        "colab": {
          "base_uri": "https://localhost:8080/"
        },
        "id": "uOR6dLolIIue",
        "outputId": "559cd24d-f22f-4078-886c-89944e02e7ce"
      },
      "source": [
        "model.compile(optimizer='adam',loss='MAE',metrics=None)\r\n",
        "print('Begin training:')\r\n",
        "history = model.fit(X_train, Y_train, epochs=10)\r\n",
        "print('Training finished:')\r\n"
      ],
      "execution_count": null,
      "outputs": [
        {
          "output_type": "stream",
          "text": [
            "Begin training:\n",
            "Epoch 1/10\n",
            "1026/1026 [==============================] - 2s 2ms/step - loss: 0.5785\n",
            "Epoch 2/10\n",
            "1026/1026 [==============================] - 2s 2ms/step - loss: 0.5760\n",
            "Epoch 3/10\n",
            "1026/1026 [==============================] - 2s 2ms/step - loss: 0.5750\n",
            "Epoch 4/10\n",
            "1026/1026 [==============================] - 2s 2ms/step - loss: 0.5759\n",
            "Epoch 5/10\n",
            "1026/1026 [==============================] - 2s 2ms/step - loss: 0.5757\n",
            "Epoch 6/10\n",
            "1026/1026 [==============================] - 2s 2ms/step - loss: 0.5775\n",
            "Epoch 7/10\n",
            "1026/1026 [==============================] - 2s 2ms/step - loss: 0.5756\n",
            "Epoch 8/10\n",
            "1026/1026 [==============================] - 2s 2ms/step - loss: 0.5757\n",
            "Epoch 9/10\n",
            "1026/1026 [==============================] - 2s 2ms/step - loss: 0.5744\n",
            "Epoch 10/10\n",
            "1026/1026 [==============================] - 2s 1ms/step - loss: 0.5768\n",
            "Training finished:\n"
          ],
          "name": "stdout"
        }
      ]
    },
    {
      "cell_type": "code",
      "metadata": {
        "colab": {
          "base_uri": "https://localhost:8080/"
        },
        "id": "icBoKN8CQnQr",
        "outputId": "fc93763a-0641-4f2c-f91b-0bca713186b0"
      },
      "source": [
        "print('Begin testing:')\r\n",
        "model.predict(X_test)"
      ],
      "execution_count": null,
      "outputs": [
        {
          "output_type": "stream",
          "text": [
            "Begin testing:\n"
          ],
          "name": "stdout"
        },
        {
          "output_type": "execute_result",
          "data": {
            "text/plain": [
              "array([[0.],\n",
              "       [0.],\n",
              "       [0.],\n",
              "       ...,\n",
              "       [0.],\n",
              "       [0.],\n",
              "       [0.]], dtype=float32)"
            ]
          },
          "metadata": {
            "tags": []
          },
          "execution_count": 353
        }
      ]
    },
    {
      "cell_type": "markdown",
      "metadata": {
        "id": "07WOozIUgoa8"
      },
      "source": [
        "## **Model training (without using Keras): too slow**"
      ]
    },
    {
      "cell_type": "code",
      "metadata": {
        "id": "OOdAuBjjfTxL"
      },
      "source": [
        "optimizer = tf.keras.optimizers.Adam()\r\n",
        "\r\n",
        "train_loss = tf.keras.metrics.Mean(name='train_loss')\r\n",
        "test_loss = tf.keras.metrics.Mean(name='test_loss')"
      ],
      "execution_count": null,
      "outputs": []
    },
    {
      "cell_type": "code",
      "metadata": {
        "id": "MiTsJNxzfWxt"
      },
      "source": [
        "def train_step(model, inputs, labels): #inputs：X_train; labels：Y_train\r\n",
        "  with tf.GradientTape() as tape:\r\n",
        "    predictions = model(inputs)\r\n",
        "    loss = tf.keras.losses.mean_squared_error(labels, predictions)\r\n",
        "  gradients = tape.gradient(loss, model.trainable_variables)\r\n",
        "  optimizer.apply_gradients(zip(gradients, model.trainable_variables))\r\n",
        "  train_loss(loss)"
      ],
      "execution_count": null,
      "outputs": []
    },
    {
      "cell_type": "code",
      "metadata": {
        "id": "VIHAWHeWfYEX"
      },
      "source": [
        "def test_step(model, inputs, labels): #inputs：X_train; labels：Y_train\r\n",
        "  predictions = model(inputs)\r\n",
        "  t_loss = tf.keras.losses.mean_squared_error(labels, predictions)\r\n",
        "  test_loss(t_loss)"
      ],
      "execution_count": null,
      "outputs": []
    },
    {
      "cell_type": "code",
      "metadata": {
        "id": "i0iqjr7JfZ9M"
      },
      "source": [
        "EPOCHS = 5\r\n",
        "\r\n",
        "for epoch in range(EPOCHS):\r\n",
        "  # train_loss.reset_states()\r\n",
        "  # test_loss.reset_states()\r\n",
        "# len(X_train)\r\n",
        "  for i in range(1,len(X_train)):\r\n",
        "    train_step(model, X_train[i,:].reshape(1,2), Y_train[i])\r\n",
        "\r\n",
        "  for i in range(1,len(X_validate)):\r\n",
        "    test_step(model, X_validate, Y_validate)\r\n",
        "\r\n",
        "  template = 'Epoch {}, Loss: {}, Test Loss: {}'\r\n",
        "  print(template.format(epoch+1,train_loss.result(),test_loss.result()))"
      ],
      "execution_count": null,
      "outputs": []
    },
    {
      "cell_type": "code",
      "metadata": {
        "id": "pijXecoqeND1"
      },
      "source": [
        "train_step(model, X_train[1,:].reshape(1,2), Y_train[1])"
      ],
      "execution_count": null,
      "outputs": []
    }
  ]
}